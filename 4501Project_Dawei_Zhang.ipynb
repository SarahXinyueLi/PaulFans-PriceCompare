{
 "cells": [
  {
   "cell_type": "code",
   "execution_count": 123,
   "metadata": {},
   "outputs": [
    {
     "name": "stdout",
     "output_type": "stream",
     "text": [
      "Please enter the keywords in NewEgg: apple 13\n",
      "Product title is: Apple Laptop MacBook Pro MPXR2LL/A Intel Core i5 2.3 GHz 8 GB Memory 128 GB PCIe-based SSD Intel Iris Plus Graphics 640 13.3\" Mac OS X v10.12 Sierra \n",
      "\n",
      "Product current price is: \n",
      "\n",
      "$1,179.00 (15 Offers)\n",
      "\n",
      " \n",
      "\n",
      "Number of product rating is: 1 \n",
      "\n",
      "Product rating is: 5/5 \n",
      "\n",
      "Product link is: https://www.newegg.com/Product/Product.aspx?Item=9SIABVC81B3946&Description=apple%2013&cm_re=apple_13-_-34-100-990-_-Product \n",
      "\n",
      "\n"
     ]
    }
   ],
   "source": [
    "import requests\n",
    "from bs4 import BeautifulSoup\n",
    "\n",
    "#Fisrt, we enter the keywords for certain products\n",
    "keywords = input(\"Please enter the keywords in NewEgg: \")\n",
    "url = \"https://www.newegg.com/Product/ProductList.aspx?Submit=ENE&DEPA=0&Order=BESTMATCH&Description=\" + keywords + \"&N=-1&isNodeId=1\"\n",
    "response = requests.get(url)\n",
    "\n",
    "#We want the status code to be 200\n",
    "if not response.status_code == 200:\n",
    "    print(\"Requests Failed\")\n",
    "\n",
    "try:\n",
    "    results_page = BeautifulSoup(response.content,'lxml')\n",
    "    \n",
    "    if results_page.find_all('span',class_=\"result-message-error\"):\n",
    "        print('We have found 0 items that match',keywords)\n",
    "    \n",
    "    else:\n",
    "        new_url = results_page.find_all('a',class_=\"item-title\")[0].get('href')\n",
    "        new_response = requests.get(new_url)\n",
    "        \n",
    "        if not new_response.status_code == 200:\n",
    "            print(\"Requests Failed\")\n",
    "        \n",
    "        try:\n",
    "            new_results_page = BeautifulSoup(new_response.content,'lxml')\n",
    "            new_title = results_page.find_all('a',class_=\"item-title\")[0].get_text()\n",
    "            new_price = results_page.find_all('li',class_=\"price-current\")[0].get_text()[:-3]\n",
    "            \n",
    "            if new_results_page.find('a',class_=\"first_review\"):\n",
    "                number_of_product_rating = 'Be the first to review this product'\n",
    "                new_rating = 'Be the first to review this product'\n",
    "            \n",
    "            else:\n",
    "                number_of_product_rating = new_results_page.find('span',itemprop=\"reviewCount\").get_text()\n",
    "                new_rating = new_results_page.find_all('span',class_=\"print\")[0].get_text()\n",
    "            \n",
    "            print('Product title is:',new_title,'\\n\\n'\n",
    "                  'Product current price is:',new_price,'\\n\\n'\n",
    "                  'Number of product rating is:',number_of_product_rating,'\\n\\n' \n",
    "                  'Product rating is:',new_rating,'\\n\\n'\n",
    "                  'Product link is:',new_url,'\\n\\n')\n",
    "       \n",
    "        except:\n",
    "            print('We have no information')\n",
    "            \n",
    "except:\n",
    "    print('We have found 0 items that match',keywords)\n",
    "    "
   ]
  },
  {
   "cell_type": "code",
   "execution_count": 126,
   "metadata": {},
   "outputs": [],
   "source": [
    "import requests\n",
    "from bs4 import BeautifulSoup\n",
    "\n",
    "#Fisrt, we enter the keywords for certain products\n",
    "\n",
    "def get_NewEgg(keywords):\n",
    "    keywords = input(\"Please enter the keywords in NewEgg: \")\n",
    "    url = \"https://www.newegg.com/Product/ProductList.aspx?Submit=ENE&DEPA=0&Order=BESTMATCH&Description=\" + keywords + \"&N=-1&isNodeId=1\"\n",
    "    response = requests.get(url)\n",
    "\n",
    "    #We want the status code to be 200\n",
    "    if not response.status_code == 200:\n",
    "        print(\"Requests Failed\")\n",
    "\n",
    "    try:\n",
    "        results_page = BeautifulSoup(response.content,'lxml')\n",
    "\n",
    "        if results_page.find_all('span',class_=\"result-message-error\"):\n",
    "            print('We have found 0 items that match',keywords)\n",
    "\n",
    "        else:\n",
    "            new_url = results_page.find_all('a',class_=\"item-title\")[0].get('href')\n",
    "            new_response = requests.get(new_url)\n",
    "\n",
    "            if not new_response.status_code == 200:\n",
    "                print(\"Requests Failed\")\n",
    "\n",
    "            try:\n",
    "                new_results_page = BeautifulSoup(new_response.content,'lxml')\n",
    "                new_title = results_page.find_all('a',class_=\"item-title\")[0].get_text()\n",
    "                new_price = results_page.find_all('li',class_=\"price-current\")[0].get_text()[:-3]\n",
    "\n",
    "                if new_results_page.find('a',class_=\"first_review\"):\n",
    "                    number_of_product_rating = 'Be the first to review this product'\n",
    "                    new_rating = 'Be the first to review this product'\n",
    "\n",
    "                else:\n",
    "                    number_of_product_rating = new_results_page.find('span',itemprop=\"reviewCount\").get_text()\n",
    "                    new_rating = new_results_page.find_all('span',class_=\"print\")[0].get_text()\n",
    "\n",
    "                print('Product title is:',new_title,'\\n\\n'\n",
    "                      'Product current price is:',new_price,'\\n\\n'\n",
    "                      'Number of product rating is:',number_of_product_rating,'\\n\\n' \n",
    "                      'Product rating is:',new_rating,'\\n\\n'\n",
    "                      'Product link is:',new_url,'\\n\\n')\n",
    "\n",
    "            except:\n",
    "                print('We have no information')\n",
    "\n",
    "    except:\n",
    "        print('We have found 0 items that match',keywords)\n",
    "    return new_title,new_price,number_of_product_rating,new_rating,new_url"
   ]
  },
  {
   "cell_type": "code",
   "execution_count": 128,
   "metadata": {},
   "outputs": [
    {
     "name": "stdout",
     "output_type": "stream",
     "text": [
      "Please enter the keywords in NewEgg: apple 13\n",
      "Product title is: Apple Laptop MacBook Pro MPXR2LL/A Intel Core i5 2.3 GHz 8 GB Memory 128 GB PCIe-based SSD Intel Iris Plus Graphics 640 13.3\" Mac OS X v10.12 Sierra \n",
      "\n",
      "Product current price is: \n",
      "\n",
      "$1,179.00 (15 Offers)\n",
      "\n",
      " \n",
      "\n",
      "Number of product rating is: 1 \n",
      "\n",
      "Product rating is: 5/5 \n",
      "\n",
      "Product link is: https://www.newegg.com/Product/Product.aspx?Item=9SIABVC81B3946&Description=apple%2013&cm_re=apple_13-_-34-100-990-_-Product \n",
      "\n",
      "\n"
     ]
    },
    {
     "data": {
      "text/plain": [
       "('Apple Laptop MacBook Pro MPXR2LL/A Intel Core i5 2.3 GHz 8 GB Memory 128 GB PCIe-based SSD Intel Iris Plus Graphics 640 13.3\" Mac OS X v10.12 Sierra',\n",
       " '\\n\\n$1,179.00\\xa0(15 Offers)\\n\\n',\n",
       " '1',\n",
       " '5/5',\n",
       " 'https://www.newegg.com/Product/Product.aspx?Item=9SIABVC81B3946&Description=apple%2013&cm_re=apple_13-_-34-100-990-_-Product')"
      ]
     },
     "execution_count": 128,
     "metadata": {},
     "output_type": "execute_result"
    }
   ],
   "source": [
    "get_NewEgg('keywords')\n"
   ]
  },
  {
   "cell_type": "code",
   "execution_count": null,
   "metadata": {},
   "outputs": [],
   "source": []
  }
 ],
 "metadata": {
  "kernelspec": {
   "display_name": "Python 3",
   "language": "python",
   "name": "python3"
  },
  "language_info": {
   "codemirror_mode": {
    "name": "ipython",
    "version": 3
   },
   "file_extension": ".py",
   "mimetype": "text/x-python",
   "name": "python",
   "nbconvert_exporter": "python",
   "pygments_lexer": "ipython3",
   "version": "3.6.5"
  }
 },
 "nbformat": 4,
 "nbformat_minor": 2
}
